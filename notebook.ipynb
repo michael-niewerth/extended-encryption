{
 "cells": [
  {
   "cell_type": "code",
   "execution_count": 5,
   "id": "bc799678",
   "metadata": {
    "ExecuteTime": {
     "start_time": "2023-04-06T23:40:29.739332Z",
     "end_time": "2023-04-06T23:40:30.738321Z"
    }
   },
   "outputs": [
    {
     "data": {
      "text/plain": "1000"
     },
     "execution_count": 5,
     "metadata": {},
     "output_type": "execute_result"
    }
   ],
   "source": [
    "let a1:u64 = 1000;\n",
    "a1"
   ]
  }
 ],
 "metadata": {
  "kernelspec": {
   "name": "rust",
   "language": "rust",
   "display_name": "Rust"
  },
  "language_info": {
   "codemirror_mode": "rust",
   "file_extension": ".rs",
   "mimetype": "text/rust",
   "name": "Rust",
   "pygment_lexer": "rust",
   "version": ""
  }
 },
 "nbformat": 4,
 "nbformat_minor": 5
}
